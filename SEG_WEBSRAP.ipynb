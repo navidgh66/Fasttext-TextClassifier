{
  "nbformat": 4,
  "nbformat_minor": 0,
  "metadata": {
    "colab": {
      "name": "SEG-WEBSRAP",
      "version": "0.3.2",
      "provenance": [],
      "collapsed_sections": [],
      "include_colab_link": true
    },
    "kernelspec": {
      "display_name": "Python 3",
      "language": "python",
      "name": "python3"
    }
  },
  "cells": [
    {
      "cell_type": "markdown",
      "metadata": {
        "id": "view-in-github",
        "colab_type": "text"
      },
      "source": [
        "<a href=\"https://colab.research.google.com/github/navidgh66/Fasttext-TextClassifier/blob/master/SEG_WEBSRAP.ipynb\" target=\"_parent\"><img src=\"https://colab.research.google.com/assets/colab-badge.svg\" alt=\"Open In Colab\"/></a>"
      ]
    },
    {
      "metadata": {
        "_uuid": "8f2839f25d086af736a60e9eeb907d3b93b6e0e5",
        "_cell_guid": "b1076dfc-b9ad-4769-8c92-a6c4dae69d19",
        "trusted": true,
        "id": "Ie5DT-28XQST",
        "colab_type": "code",
        "colab": {}
      },
      "cell_type": "code",
      "source": [
        "import numpy as np # linear algebra\n",
        "import pandas as pd # data processing\n",
        "from bs4 import BeautifulSoup\n",
        "import requests\n",
        "import urllib.request\n",
        "pd.set_option('display.max_columns', None)  # or 1000\n",
        "pd.set_option('display.max_rows', None)  # or 1000\n",
        "pd.set_option('display.max_colwidth', -1)  # or 199"
      ],
      "execution_count": 0,
      "outputs": []
    },
    {
      "metadata": {
        "trusted": true,
        "_uuid": "1b12a0507c0087d33a4cb0a80fd347e285352fff",
        "id": "qPkrHmUGXQSY",
        "colab_type": "code",
        "colab": {}
      },
      "cell_type": "code",
      "source": [
        "dfs=pd.read_html('https://en.wikipedia.org/wiki/List_of_electric_cars_currently_available',header=0,encoding='utf-8')"
      ],
      "execution_count": 0,
      "outputs": []
    },
    {
      "metadata": {
        "trusted": true,
        "_uuid": "8833c462e9b6932e5aefb0c13235df5565ab22f6",
        "id": "TRmF6qNCXQSc",
        "colab_type": "code",
        "colab": {}
      },
      "cell_type": "code",
      "source": [
        "df_highway=dfs[0]\n",
        "df_city=dfs[1]\n",
        "df_lowSpeed=dfs[2]\n",
        "df_race=dfs[3]"
      ],
      "execution_count": 0,
      "outputs": []
    },
    {
      "metadata": {
        "trusted": true,
        "_uuid": "ac5f02d76d3354fede5b623137acb01050c42ce9",
        "id": "ixRdpwGQXQSf",
        "colab_type": "code",
        "colab": {}
      },
      "cell_type": "code",
      "source": [
        "df_highway['Model']=df_highway.Manufacturer.str.cat(df_highway.Model,sep='_')\n",
        "df_highway.drop('Manufacturer',axis=1,inplace=True)\n",
        "df_highway['Model']=df_highway.Model.str.replace(' ','_')"
      ],
      "execution_count": 0,
      "outputs": []
    },
    {
      "metadata": {
        "trusted": true,
        "_uuid": "4c03468d15c56c0671989853c7a41df10976628c",
        "id": "WKEEeTEnXQSr",
        "colab_type": "code",
        "colab": {}
      },
      "cell_type": "code",
      "source": [
        "page=urllib.request.urlopen('https://en.wikipedia.org/wiki/List_of_electric_cars_currently_available').read()\n",
        "soup=BeautifulSoup(page,'lxml')\n",
        "table=soup.find('table')\n",
        "urls=[]\n",
        "for url in table.find_all('a'):\n",
        "    urls.append(url.get('href'))\n",
        "    \n",
        "urls=pd.DataFrame(urls)\n",
        "urls.columns=['url']    \n",
        "urls=urls[urls.url.str.contains('/wiki/')]\n",
        "urls=urls.drop([5,6,7,8,24,47,48,57,58,64,89,90,91,104,109,110],axis=0)\n",
        "urls.reset_index(inplace=True,drop=True)\n",
        "temp1 ,temp2=urls.loc[60].copy(),urls.loc[61].copy()\n",
        "urls.loc[60],urls.loc[61]=temp2,temp1\n",
        "urls=urls[urls.index % 2 !=0]\n",
        "url_list=list(urls.url.str.replace('/wiki/','https://en.wikipedia.org/wiki/'))"
      ],
      "execution_count": 0,
      "outputs": []
    },
    {
      "metadata": {
        "trusted": true,
        "_uuid": "4b2bc3ebbf1fe4008a8e077601c2cf662b2fc207",
        "id": "QXpkTgArXQSv",
        "colab_type": "code",
        "colab": {
          "base_uri": "https://localhost:8080/",
          "height": 763
        },
        "outputId": "67416a30-e4e4-43d1-bd76-00cf2005bcef"
      },
      "cell_type": "code",
      "source": [
        "url_list"
      ],
      "execution_count": 6,
      "outputs": [
        {
          "output_type": "execute_result",
          "data": {
            "text/plain": [
              "['https://en.wikipedia.org/wiki/BMW_i3',\n",
              " 'https://en.wikipedia.org/wiki/BMW_Brilliance_Zinoro_1E',\n",
              " 'https://en.wikipedia.org/wiki/Bollor%C3%A9_Bluecar',\n",
              " 'https://en.wikipedia.org/wiki/BYD_e6',\n",
              " 'https://en.wikipedia.org/wiki/Chery_QQ3_EV',\n",
              " 'https://en.wikipedia.org/wiki/Chevrolet_Bolt_EV',\n",
              " 'https://en.wikipedia.org/wiki/Citro%C3%ABn_C-Zero',\n",
              " 'https://fr.wikipedia.orghttps://en.wikipedia.org/wiki/COURB',\n",
              " 'https://en.wikipedia.org/wiki/ElectraMeccanica',\n",
              " 'https://en.wikipedia.org/wiki/Fiat_500e',\n",
              " 'https://en.wikipedia.org/wiki/Ford_Focus_Electric',\n",
              " 'https://en.wikipedia.org/wiki/Honda_Fit_EV',\n",
              " 'https://en.wikipedia.org/wiki/Hyundai_Ioniq#Ioniq_Electric',\n",
              " 'https://en.wikipedia.org/wiki/Hyundai_Kona',\n",
              " 'https://en.wikipedia.org/wiki/JAC_J3_EV',\n",
              " 'https://en.wikipedia.org/wiki/Jaguar_I-Pace',\n",
              " 'https://en.wikipedia.org/wiki/Kia',\n",
              " 'https://en.wikipedia.org/wiki/Lightning_GT',\n",
              " 'https://en.wikipedia.org/wiki/Mahindra_%26_Mahindra',\n",
              " 'https://en.wikipedia.org/wiki/Mahindra_%26_Mahindra',\n",
              " 'https://en.wikipedia.org/wiki/Mercedes-Benz',\n",
              " 'https://en.wikipedia.org/wiki/Micro_Mobility_Systems',\n",
              " 'https://en.wikipedia.org/wiki/Mitsubishi_Motors',\n",
              " 'https://es.wikipedia.orghttps://en.wikipedia.org/wiki/Zacua',\n",
              " 'https://en.wikipedia.org/wiki/MW_Motors_Luka_EV',\n",
              " 'https://en.wikipedia.org/wiki/NIO_(car_company)',\n",
              " 'https://en.wikipedia.org/wiki/Nissan',\n",
              " 'https://en.wikipedia.org/wiki/Peugeot',\n",
              " 'https://en.wikipedia.org/wiki/Renault',\n",
              " 'https://en.wikipedia.org/wiki/Renault_Fluence_ZE',\n",
              " 'https://en.wikipedia.org/wiki/Renault_Samsung_SM3',\n",
              " 'https://en.wikipedia.org/wiki/Renault_Zoe',\n",
              " 'https://en.wikipedia.org/wiki/Renault_Twizy',\n",
              " 'https://en.wikipedia.org/wiki/Rimac_Concept_One',\n",
              " 'https://en.wikipedia.org/wiki/Smart_electric_drive',\n",
              " 'https://en.wikipedia.org/wiki/Sion_(electric_car)',\n",
              " 'https://en.wikipedia.org/wiki/Stevens_Vehicles',\n",
              " 'https://en.wikipedia.org/wiki/Tesla_Model_S',\n",
              " 'https://en.wikipedia.org/wiki/Tesla_Model_X',\n",
              " 'https://en.wikipedia.org/wiki/Tesla_Model_3',\n",
              " 'https://en.wikipedia.org/wiki/Venturi_F%C3%A9tish',\n",
              " 'https://en.wikipedia.org/wiki/Volkswagen_e-Golf',\n",
              " 'https://en.wikipedia.org/wiki/Volkswagen_e-Up!']"
            ]
          },
          "metadata": {
            "tags": []
          },
          "execution_count": 6
        }
      ]
    },
    {
      "metadata": {
        "id": "Tfh025y6_pdK",
        "colab_type": "code",
        "colab": {}
      },
      "cell_type": "code",
      "source": [
        "bmw=pd.read_html(url_list[0],header=0)\n",
        "bmwi3_info=bmw[0]\n",
        "bmwi3_sale=bmw[3]"
      ],
      "execution_count": 0,
      "outputs": []
    },
    {
      "metadata": {
        "id": "Gu50b-EwEF2v",
        "colab_type": "code",
        "colab": {}
      },
      "cell_type": "code",
      "source": [
        ""
      ],
      "execution_count": 0,
      "outputs": []
    }
  ]
}